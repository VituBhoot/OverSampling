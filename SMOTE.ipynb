import numpy as np
from imblearn.over_sampling import SMOTE
from sklearn.datasets import make_classification
from collections import Counter

# Generate an imbalanced dataset for demonstration
X, y = make_classification(n_samples=1000, n_features=29, n_informative=10,
                           n_clusters_per_class=1, weights=[0.95], flip_y=0, random_state=42)

print("Original class distribution:", Counter(y))

# Apply SMOTE
smote = SMOTE(sampling_strategy='auto', random_state=42)
X_resampled, y_resampled = smote.fit_resample(X, y)

print("Resampled class distribution:", Counter(y_resampled))
